{
 "cells": [
  {
   "cell_type": "code",
   "execution_count": 2,
   "id": "b0d4bca8-6ac3-4df3-856a-bd8ae9a0a149",
   "metadata": {},
   "outputs": [],
   "source": [
    "import pandas as pd\n",
    "import numpy as np"
   ]
  },
  {
   "cell_type": "code",
   "execution_count": 3,
   "id": "c9ff1ad6-b7cd-45a3-b053-57bcae0d63f9",
   "metadata": {},
   "outputs": [],
   "source": [
    "data = 'wget https://raw.githubusercontent.com/alexeygrigorev/datasets/master/car_fuel_efficiency.csv'"
   ]
  },
  {
   "cell_type": "code",
   "execution_count": 4,
   "id": "596f5558-e457-468b-8542-4a884daabb6c",
   "metadata": {},
   "outputs": [
    {
     "name": "stdout",
     "output_type": "stream",
     "text": [
      "Prepended http:// to 'wget'\n",
      "--2025-10-13 23:15:49--  http://wget/\n",
      "failed: nodename nor servname provided, or not known.\n",
      "wget: unable to resolve host address ‘wget’\n",
      "--2025-10-13 23:15:49--  https://raw.githubusercontent.com/alexeygrigorev/datasets/master/car_fuel_efficiency.csv\n",
      "Resolving raw.githubusercontent.com (raw.githubusercontent.com)... 2606:50c0:8002::154, 2606:50c0:8003::154, 2606:50c0:8000::154, ...\n",
      "connected. to raw.githubusercontent.com (raw.githubusercontent.com)|2606:50c0:8002::154|:443... \n",
      "HTTP request sent, awaiting response... 200 OK\n",
      "Length: 874188 (854K) [text/plain]\n",
      "Saving to: ‘car_fuel_efficiency.csv.1’\n",
      "\n",
      "car_fuel_efficiency 100%[===================>] 853.70K  --.-KB/s    in 0.09s   \n",
      "\n",
      "2025-10-13 23:15:49 (8.79 MB/s) - ‘car_fuel_efficiency.csv.1’ saved [874188/874188]\n",
      "\n",
      "FINISHED --2025-10-13 23:15:49--\n",
      "Total wall clock time: 0.5s\n",
      "Downloaded: 1 files, 854K in 0.09s (8.79 MB/s)\n"
     ]
    }
   ],
   "source": [
    "!wget $data"
   ]
  },
  {
   "cell_type": "code",
   "execution_count": 105,
   "id": "79e0abcf-649c-4d2e-a9d2-11bf510c1628",
   "metadata": {},
   "outputs": [],
   "source": [
    "df = pd.read_csv('car_fuel_efficiency.csv.1')"
   ]
  },
  {
   "cell_type": "code",
   "execution_count": 106,
   "id": "3aad9a7a-bcfb-4cf4-beb5-0df2963afef0",
   "metadata": {},
   "outputs": [],
   "source": [
    "df=df[['engine_displacement','horsepower','vehicle_weight','model_year','fuel_efficiency_mpg']]"
   ]
  },
  {
   "cell_type": "code",
   "execution_count": 107,
   "id": "42aa03fc-1988-497f-96b0-0f6ff59cc0b2",
   "metadata": {},
   "outputs": [
    {
     "name": "stdout",
     "output_type": "stream",
     "text": [
      "   engine_displacement  horsepower  vehicle_weight  model_year  \\\n",
      "0                  170       159.0     3413.433759        2003   \n",
      "1                  130        97.0     3149.664934        2007   \n",
      "2                  170        78.0     3079.038997        2018   \n",
      "3                  220         NaN     2542.392402        2009   \n",
      "4                  210       140.0     3460.870990        2009   \n",
      "\n",
      "   fuel_efficiency_mpg  \n",
      "0            13.231729  \n",
      "1            13.688217  \n",
      "2            14.246341  \n",
      "3            16.912736  \n",
      "4            12.488369  \n"
     ]
    }
   ],
   "source": [
    "print(df.head(5))"
   ]
  },
  {
   "cell_type": "code",
   "execution_count": 108,
   "id": "3e653be9-1655-4fdc-b56e-6a6671451d6e",
   "metadata": {},
   "outputs": [
    {
     "name": "stdout",
     "output_type": "stream",
     "text": [
      "engine_displacement      int64\n",
      "horsepower             float64\n",
      "vehicle_weight         float64\n",
      "model_year               int64\n",
      "fuel_efficiency_mpg    float64\n",
      "dtype: object\n"
     ]
    }
   ],
   "source": [
    "print(df.dtypes)"
   ]
  },
  {
   "cell_type": "code",
   "execution_count": 109,
   "id": "1c5a40fe-ab14-4c1e-8bd1-0488ee1da74d",
   "metadata": {},
   "outputs": [
    {
     "name": "stdout",
     "output_type": "stream",
     "text": [
      "       engine_displacement   horsepower  vehicle_weight   model_year  \\\n",
      "count          9704.000000  8996.000000     9704.000000  9704.000000   \n",
      "mean            199.708368   149.657292     3001.280993  2011.484027   \n",
      "std              49.455319    29.879555      497.894860     6.659808   \n",
      "min              10.000000    37.000000      952.681761  2000.000000   \n",
      "25%             170.000000   130.000000     2666.248985  2006.000000   \n",
      "50%             200.000000   149.000000     2993.226296  2012.000000   \n",
      "75%             230.000000   170.000000     3334.957039  2017.000000   \n",
      "max             380.000000   271.000000     4739.077089  2023.000000   \n",
      "\n",
      "       fuel_efficiency_mpg  \n",
      "count          9704.000000  \n",
      "mean             14.985243  \n",
      "std               2.556468  \n",
      "min               6.200971  \n",
      "25%              13.267459  \n",
      "50%              15.006037  \n",
      "75%              16.707965  \n",
      "max              25.967222  \n"
     ]
    }
   ],
   "source": [
    "print(df.describe())"
   ]
  },
  {
   "cell_type": "code",
   "execution_count": 110,
   "id": "9a260d68-fdd6-42f2-bec3-b42e5a4d4575",
   "metadata": {},
   "outputs": [
    {
     "name": "stdout",
     "output_type": "stream",
     "text": [
      "engine_displacement      0\n",
      "horsepower             708\n",
      "vehicle_weight           0\n",
      "model_year               0\n",
      "fuel_efficiency_mpg      0\n",
      "dtype: int64\n"
     ]
    }
   ],
   "source": [
    "print(df.isnull().sum())"
   ]
  },
  {
   "cell_type": "code",
   "execution_count": 111,
   "id": "ac212fd6-6bd3-4196-b29f-b251df80d566",
   "metadata": {},
   "outputs": [],
   "source": [
    "import matplotlib.pyplot as plt\n",
    "import seaborn as sns\n",
    "\n",
    "%matplotlib inline"
   ]
  },
  {
   "cell_type": "code",
   "execution_count": 112,
   "id": "fe2cff95-4870-41c6-ae44-01009174a694",
   "metadata": {},
   "outputs": [
    {
     "data": {
      "text/plain": [
       "<Axes: xlabel='fuel_efficiency_mpg', ylabel='Count'>"
      ]
     },
     "execution_count": 112,
     "metadata": {},
     "output_type": "execute_result"
    },
    {
     "data": {
      "image/png": "[encoded data removed]",
      "text/plain": [
       "<Figure size 640x480 with 1 Axes>"
      ]
     },
     "metadata": {},
     "output_type": "display_data"
    }
   ],
   "source": [
    "sns.histplot(df.fuel_efficiency_mpg)"
   ]
  },
  {
   "cell_type": "code",
   "execution_count": 113,
   "id": "61a55cab-2db0-4ca0-bae8-88267b52a9ff",
   "metadata": {},
   "outputs": [],
   "source": [
    "n = len(df)\n",
    "n_val = int(0.2*n)\n",
    "n_test= int(0.2*n)\n",
    "n_train = n - n_val - n_test"
   ]
  },
  {
   "cell_type": "code",
   "execution_count": 20,
   "id": "3bb592a8-3d71-4a99-99a0-b35c7fc8a7fe",
   "metadata": {},
   "outputs": [
    {
     "data": {
      "text/plain": [
       "9704"
      ]
     },
     "execution_count": 20,
     "metadata": {},
     "output_type": "execute_result"
    }
   ],
   "source": [
    "n"
   ]
  },
  {
   "cell_type": "code",
   "execution_count": 114,
   "id": "f154e4fd-54cc-4850-8013-79d594637fce",
   "metadata": {},
   "outputs": [
    {
     "data": {
      "text/plain": [
       "(1940, 1940, 5824)"
      ]
     },
     "execution_count": 114,
     "metadata": {},
     "output_type": "execute_result"
    }
   ],
   "source": [
    "n_val, n_test, n_train"
   ]
  },
  {
   "cell_type": "code",
   "execution_count": 115,
   "id": "df856273-00d3-4989-9c0c-4f8395c89cab",
   "metadata": {},
   "outputs": [],
   "source": [
    "df_train = df.iloc[: n_train]\n",
    "df_val = df.iloc[n_train: n_train+n_val]\n",
    "df_test = df.iloc[n_train+n_val:]"
   ]
  },
  {
   "cell_type": "code",
   "execution_count": 116,
   "id": "0d1b11e2-9877-4431-8ff5-d724bb557d77",
   "metadata": {},
   "outputs": [],
   "source": [
    "index = np.arange(n)"
   ]
  },
  {
   "cell_type": "code",
   "execution_count": 117,
   "id": "54e46e1d-24e1-45b2-92bf-96d17b7f09d9",
   "metadata": {},
   "outputs": [],
   "source": [
    "np.random.seed(42)\n",
    "np.random.shuffle(index)"
   ]
  },
  {
   "cell_type": "code",
   "execution_count": 118,
   "id": "f110d21f-a5cf-45f5-9b5c-6af1ca42a303",
   "metadata": {},
   "outputs": [],
   "source": [
    "df_train = df.iloc[index[:n_train]]\n",
    "df_val = df.iloc[index[n_train: n_train+n_val]]\n",
    "df_test = df.iloc[index[n_train+n_val:]]"
   ]
  },
  {
   "cell_type": "code",
   "execution_count": 119,
   "id": "c989c06e-44bd-4b0d-83f0-6a054229db45",
   "metadata": {},
   "outputs": [
    {
     "data": {
      "text/plain": [
       "(5824, 1940, 1940)"
      ]
     },
     "execution_count": 119,
     "metadata": {},
     "output_type": "execute_result"
    }
   ],
   "source": [
    "len(df_train), len(df_test), len(df_val)"
   ]
  },
  {
   "cell_type": "code",
   "execution_count": 120,
   "id": "c7d17bcc-bdbe-4d6f-b3d7-65b1b0d372cb",
   "metadata": {},
   "outputs": [],
   "source": [
    "df_train = df_train.reset_index(drop=True)\n",
    "df_val = df_val.reset_index(drop=True)\n",
    "df_test = df_test.reset_index(drop=True)"
   ]
  },
  {
   "cell_type": "code",
   "execution_count": 121,
   "id": "aac4166f-9af9-4b30-b9dc-f48316fd04d3",
   "metadata": {},
   "outputs": [],
   "source": [
    "y_train = df_train['fuel_efficiency_mpg']\n",
    "y_val = df_val['fuel_efficiency_mpg']\n",
    "y_test = df_test['fuel_efficiency_mpg']"
   ]
  },
  {
   "cell_type": "code",
   "execution_count": 122,
   "id": "ce786c05-0da5-41fb-b85b-ac199b66f19e",
   "metadata": {},
   "outputs": [],
   "source": [
    "del df_train['fuel_efficiency_mpg']\n",
    "del df_val['fuel_efficiency_mpg']\n",
    "del df_test['fuel_efficiency_mpg']"
   ]
  },
  {
   "cell_type": "markdown",
   "id": "30f1d52e-352d-4e46-b29f-67051ab79645",
   "metadata": {},
   "source": [
    "## experiement filling na with 0 and mean"
   ]
  },
  {
   "cell_type": "code",
   "execution_count": 124,
   "id": "7b561f26-444b-49a9-9b48-69f944549b1d",
   "metadata": {},
   "outputs": [
    {
     "data": {
      "text/plain": [
       "149"
      ]
     },
     "execution_count": 124,
     "metadata": {},
     "output_type": "execute_result"
    }
   ],
   "source": [
    "mean_hp= int(df_train['horsepower'].mean())\n",
    "mean_hp"
   ]
  },
  {
   "cell_type": "code",
   "execution_count": 126,
   "id": "f197db3b-2dad-47f1-b6b2-24404aa237b3",
   "metadata": {},
   "outputs": [],
   "source": [
    "df_train_zero = df_train.copy()"
   ]
  },
  {
   "cell_type": "code",
   "execution_count": 127,
   "id": "4edb83b0-d1db-4767-8bb0-fc95a9ee7580",
   "metadata": {},
   "outputs": [],
   "source": [
    "df_train['horsepower'] = df_train['horsepower'].fillna(mean_hp)\n",
    "df_train_zero['horsepower'] = df_train_zero['horsepower'].fillna(0)"
   ]
  },
  {
   "cell_type": "code",
   "execution_count": 90,
   "id": "77a81b04-2b50-45c7-8702-7ba3a4753840",
   "metadata": {},
   "outputs": [],
   "source": [
    "def train_linear_regression(X, y):\n",
    "    ones = np.ones(X.shape[0])\n",
    "    X = np.column_stack([ones, X])\n",
    "    \n",
    "    XTX = X.T.dot(X)\n",
    "    XTX_inv = np.linalg.inv(XTX)\n",
    "    w_full = XTX_inv.dot(X.T).dot(y)\n",
    "\n",
    "    return w_full[0], w_full[1:]"
   ]
  },
  {
   "cell_type": "code",
   "execution_count": 128,
   "id": "b333b49e-770c-449f-b03d-0383c582cf28",
   "metadata": {},
   "outputs": [],
   "source": [
    "w0, w = train_linear_regression(df_train, y_train)"
   ]
  },
  {
   "cell_type": "code",
   "execution_count": 129,
   "id": "fb971350-3173-4543-8432-2ffca05ecd5a",
   "metadata": {},
   "outputs": [
    {
     "data": {
      "text/plain": [
       "(np.float64(28.924925800828007),\n",
       " array([ 0.00012113,  0.01030247, -0.00501007, -0.00023427]))"
      ]
     },
     "execution_count": 129,
     "metadata": {},
     "output_type": "execute_result"
    }
   ],
   "source": [
    "w0, w"
   ]
  },
  {
   "cell_type": "code",
   "execution_count": 149,
   "id": "2f97b082-b951-4a84-9431-f1026d079caa",
   "metadata": {},
   "outputs": [],
   "source": [
    "def rmse(y, y_pred):\n",
    "    se = (y - y_pred) ** 2\n",
    "    mse = se.mean()\n",
    "    return np.sqrt(mse)"
   ]
  },
  {
   "cell_type": "code",
   "execution_count": 130,
   "id": "060d48f5-35a7-42c6-b106-65ac0fc82eb6",
   "metadata": {},
   "outputs": [
    {
     "data": {
      "text/plain": [
       "np.float64(0.4536443589628012)"
      ]
     },
     "execution_count": 130,
     "metadata": {},
     "output_type": "execute_result"
    }
   ],
   "source": [
    "y_val_pred = w0 + df_val.dot(w)\n",
    "rmse(y_val, y_val_pred)"
   ]
  },
  {
   "cell_type": "code",
   "execution_count": 132,
   "id": "57f938f3-032f-42e9-b820-5b845b5eb757",
   "metadata": {},
   "outputs": [],
   "source": [
    "w01, w1 = train_linear_regression(df_train_zero, y_train)"
   ]
  },
  {
   "cell_type": "code",
   "execution_count": 133,
   "id": "61d85842-4531-4c47-8be2-f5602a22465a",
   "metadata": {},
   "outputs": [
    {
     "data": {
      "text/plain": [
       "(np.float64(28.82736547365895),\n",
       " array([ 9.93613218e-05,  3.54221891e-03, -5.01328015e-03,  3.42992870e-04]))"
      ]
     },
     "execution_count": 133,
     "metadata": {},
     "output_type": "execute_result"
    }
   ],
   "source": [
    "w01, w1"
   ]
  },
  {
   "cell_type": "code",
   "execution_count": 134,
   "id": "0bc11652-6309-438b-a448-80ca31fb9c70",
   "metadata": {},
   "outputs": [
    {
     "data": {
      "text/plain": [
       "np.float64(0.4968600686648501)"
      ]
     },
     "execution_count": 134,
     "metadata": {},
     "output_type": "execute_result"
    }
   ],
   "source": [
    "y_val_pred = w01 + df_val.dot(w1)\n",
    "rmse(y_val, y_val_pred)"
   ]
  },
  {
   "cell_type": "code",
   "execution_count": 142,
   "id": "5b907484-2422-4d17-a908-11ddb74fb079",
   "metadata": {},
   "outputs": [],
   "source": [
    "def train_linear_regression_reg(X, y , r=0.01):\n",
    "    ones = np.ones(X.shape[0])\n",
    "    X = np.column_stack([ones, X])\n",
    "\n",
    "    XTX = X.T.dot(X)\n",
    "    XTX = XTX + r*np.eye(XTX.shape[0])\n",
    "\n",
    "    XTX_inv = np.linalg.inv(XTX)\n",
    "    w_full = XTX_inv.dot(X.T).dot(y)\n",
    "\n",
    "    return w_full[0], w_full[1:]"
   ]
  },
  {
   "cell_type": "code",
   "execution_count": 145,
   "id": "cc8f60f9-22b2-471b-a2c4-ad158bfcf503",
   "metadata": {},
   "outputs": [
    {
     "name": "stdout",
     "output_type": "stream",
     "text": [
      "0 28.82736547365895 0.4968600686648501\n",
      "0.01 24.92683841981215 0.49659290515819066\n",
      "0.1 11.239661084581073 0.4983358451411195\n",
      "1 1.7315979411219746 0.5019812821189961\n",
      "5 0.3638075020482907 0.5026673984961557\n",
      "10 0.18306246621686947 0.5027610856494928\n",
      "100 0.01841801730688404 0.5028472114782306\n"
     ]
    }
   ],
   "source": [
    "for r in [0, 0.01, 0.1, 1, 5, 10, 100]:\n",
    "    w0, w = train_linear_regression_reg(df_train_zero, y_train, r=r)\n",
    "    y_pred = w0 + df_val.dot(w)\n",
    "    score = rmse(y_val, y_pred)\n",
    "\n",
    "    print(r, w0, score)"
   ]
  },
  {
   "cell_type": "code",
   "execution_count": 156,
   "id": "e39c0e9b-add6-462a-97d2-f3aa28a154da",
   "metadata": {},
   "outputs": [],
   "source": [
    "seed_values = [0, 1, 2, 3, 4, 5, 6, 7, 8, 9]\n",
    "rmse_results = []\n",
    "\n",
    "for seed in seed_values:\n",
    "    np.random.seed(seed)\n",
    "    np.random.shuffle(index)\n",
    "    \n",
    "    df_train = df.iloc[index[:n_train]].copy()\n",
    "    df_val   = df.iloc[index[n_train:n_train+n_val]].copy()\n",
    "    df_test  = df.iloc[index[n_train+n_val:]].copy()\n",
    "\n",
    "    y_train = df_train['fuel_efficiency_mpg']\n",
    "    y_val   = df_val['fuel_efficiency_mpg']\n",
    "    y_test  = df_test['fuel_efficiency_mpg']\n",
    "\n",
    "    X_train = df_train.drop(columns=['fuel_efficiency_mpg'])\n",
    "    X_val   = df_val.drop(columns=['fuel_efficiency_mpg'])\n",
    "    X_test  = df_test.drop(columns=['fuel_efficiency_mpg'])\n",
    "\n",
    "    # Fill missing horsepower\n",
    "    X_train['horsepower'] = X_train['horsepower'].fillna(0)\n",
    "\n",
    "    # Train linear regression\n",
    "    w0, w = train_linear_regression(X_train, y_train)\n",
    "\n",
    "    # Predict\n",
    "    y_val_pred = w0 + X_val.dot(w)\n",
    "\n",
    "    # Compute RMSE\n",
    "    score = rmse(y_val, y_val_pred)\n",
    "\n",
    "    # Store RMSE\n",
    "    rmse_results.append(score)\n"
   ]
  },
  {
   "cell_type": "code",
   "execution_count": 157,
   "id": "6566d679-cfc3-47ac-b225-8451ab9c09e2",
   "metadata": {},
   "outputs": [
    {
     "name": "stdout",
     "output_type": "stream",
     "text": [
      "[np.float64(0.4871152044203206), np.float64(0.4858108800851016), np.float64(0.48877035054800133), np.float64(0.5022264128874183), np.float64(0.4966266531553666), np.float64(0.5159090648577287), np.float64(0.49164252731971847), np.float64(0.4900366040784925), np.float64(0.4874762871050042), np.float64(0.5034004401557377)]\n"
     ]
    }
   ],
   "source": [
    "print(rmse_results)"
   ]
  },
  {
   "cell_type": "code",
   "execution_count": 159,
   "id": "785577e0-5f43-40e5-859c-ed101317360e",
   "metadata": {},
   "outputs": [
    {
     "data": {
      "text/plain": [
       "np.float64(0.009167654726783072)"
      ]
     },
     "execution_count": 159,
     "metadata": {},
     "output_type": "execute_result"
    }
   ],
   "source": [
    "np.std(rmse_results)"
   ]
  },
  {
   "cell_type": "markdown",
   "id": "5fe71792-5ed4-4c58-a43d-8a41a944e03e",
   "metadata": {},
   "source": [
    "## choose seed 9"
   ]
  },
  {
   "cell_type": "code",
   "execution_count": 160,
   "id": "1a27e276-9033-4413-887c-78c014b4ae76",
   "metadata": {},
   "outputs": [],
   "source": [
    "import numpy as np\n",
    "\n",
    "seed = 9\n",
    "np.random.seed(seed)\n",
    "np.random.shuffle(index)\n",
    "\n",
    "df_train = df.iloc[index[:n_train]].copy()\n",
    "df_val   = df.iloc[index[n_train:n_train+n_val]].copy()\n",
    "df_test  = df.iloc[index[n_train+n_val:]].copy()\n",
    "\n",
    "# Split features and target\n",
    "y_train = df_train['fuel_efficiency_mpg']\n",
    "y_val   = df_val['fuel_efficiency_mpg']\n",
    "y_test  = df_test['fuel_efficiency_mpg']\n",
    "\n",
    "X_train = df_train.drop(columns=['fuel_efficiency_mpg'])\n",
    "X_val   = df_val.drop(columns=['fuel_efficiency_mpg'])\n",
    "X_test  = df_test.drop(columns=['fuel_efficiency_mpg'])\n",
    "\n",
    "# Fill missing values\n",
    "X_train['horsepower'] = X_train['horsepower'].fillna(0)\n",
    "X_val['horsepower'] = X_val['horsepower'].fillna(0)\n",
    "X_test['horsepower'] = X_test['horsepower'].fillna(0)"
   ]
  },
  {
   "cell_type": "code",
   "execution_count": 162,
   "id": "d7100d7a-687d-465c-9884-3ab0ccf23de0",
   "metadata": {},
   "outputs": [
    {
     "data": {
      "text/html": [
       "<div>\n",
       "<style scoped>\n",
       "    .dataframe tbody tr th:only-of-type {\n",
       "        vertical-align: middle;\n",
       "    }\n",
       "\n",
       "    .dataframe tbody tr th {\n",
       "        vertical-align: top;\n",
       "    }\n",
       "\n",
       "    .dataframe thead th {\n",
       "        text-align: right;\n",
       "    }\n",
       "</style>\n",
       "<table border=\"1\" class=\"dataframe\">\n",
       "  <thead>\n",
       "    <tr style=\"text-align: right;\">\n",
       "      <th></th>\n",
       "      <th>engine_displacement</th>\n",
       "      <th>horsepower</th>\n",
       "      <th>vehicle_weight</th>\n",
       "      <th>model_year</th>\n",
       "    </tr>\n",
       "  </thead>\n",
       "  <tbody>\n",
       "    <tr>\n",
       "      <th>305</th>\n",
       "      <td>210</td>\n",
       "      <td>158.0</td>\n",
       "      <td>3766.753097</td>\n",
       "      <td>2015</td>\n",
       "    </tr>\n",
       "    <tr>\n",
       "      <th>1387</th>\n",
       "      <td>80</td>\n",
       "      <td>134.0</td>\n",
       "      <td>3371.815558</td>\n",
       "      <td>2010</td>\n",
       "    </tr>\n",
       "    <tr>\n",
       "      <th>4054</th>\n",
       "      <td>180</td>\n",
       "      <td>167.0</td>\n",
       "      <td>3460.444065</td>\n",
       "      <td>2005</td>\n",
       "    </tr>\n",
       "    <tr>\n",
       "      <th>6388</th>\n",
       "      <td>220</td>\n",
       "      <td>129.0</td>\n",
       "      <td>2656.297479</td>\n",
       "      <td>2018</td>\n",
       "    </tr>\n",
       "    <tr>\n",
       "      <th>1119</th>\n",
       "      <td>180</td>\n",
       "      <td>101.0</td>\n",
       "      <td>3731.473905</td>\n",
       "      <td>2002</td>\n",
       "    </tr>\n",
       "    <tr>\n",
       "      <th>...</th>\n",
       "      <td>...</td>\n",
       "      <td>...</td>\n",
       "      <td>...</td>\n",
       "      <td>...</td>\n",
       "    </tr>\n",
       "    <tr>\n",
       "      <th>4667</th>\n",
       "      <td>230</td>\n",
       "      <td>153.0</td>\n",
       "      <td>3582.759453</td>\n",
       "      <td>2006</td>\n",
       "    </tr>\n",
       "    <tr>\n",
       "      <th>5383</th>\n",
       "      <td>150</td>\n",
       "      <td>117.0</td>\n",
       "      <td>3105.003763</td>\n",
       "      <td>2021</td>\n",
       "    </tr>\n",
       "    <tr>\n",
       "      <th>178</th>\n",
       "      <td>170</td>\n",
       "      <td>177.0</td>\n",
       "      <td>3886.186669</td>\n",
       "      <td>2009</td>\n",
       "    </tr>\n",
       "    <tr>\n",
       "      <th>3808</th>\n",
       "      <td>210</td>\n",
       "      <td>156.0</td>\n",
       "      <td>3394.902638</td>\n",
       "      <td>2008</td>\n",
       "    </tr>\n",
       "    <tr>\n",
       "      <th>775</th>\n",
       "      <td>200</td>\n",
       "      <td>162.0</td>\n",
       "      <td>2244.350292</td>\n",
       "      <td>2012</td>\n",
       "    </tr>\n",
       "  </tbody>\n",
       "</table>\n",
       "<p>7764 rows × 4 columns</p>\n",
       "</div>"
      ],
      "text/plain": [
       "      engine_displacement  horsepower  vehicle_weight  model_year\n",
       "305                   210       158.0     3766.753097        2015\n",
       "1387                   80       134.0     3371.815558        2010\n",
       "4054                  180       167.0     3460.444065        2005\n",
       "6388                  220       129.0     2656.297479        2018\n",
       "1119                  180       101.0     3731.473905        2002\n",
       "...                   ...         ...             ...         ...\n",
       "4667                  230       153.0     3582.759453        2006\n",
       "5383                  150       117.0     3105.003763        2021\n",
       "178                   170       177.0     3886.186669        2009\n",
       "3808                  210       156.0     3394.902638        2008\n",
       "775                   200       162.0     2244.350292        2012\n",
       "\n",
       "[7764 rows x 4 columns]"
      ]
     },
     "execution_count": 162,
     "metadata": {},
     "output_type": "execute_result"
    }
   ],
   "source": [
    "df_full_train = pd.concat([X_train, X_val])"
   ]
  },
  {
   "cell_type": "code",
   "execution_count": 163,
   "id": "94ed3060-4965-4a79-a07e-7bd100b3faed",
   "metadata": {},
   "outputs": [],
   "source": [
    "df_full_train = df_full_train.reset_index(drop=True)"
   ]
  },
  {
   "cell_type": "code",
   "execution_count": 165,
   "id": "18b219ff-07bc-478d-aeb8-33c215974cfd",
   "metadata": {},
   "outputs": [],
   "source": [
    "y_full_train = np.concatenate([y_train, y_val])"
   ]
  },
  {
   "cell_type": "code",
   "execution_count": 166,
   "id": "209b1273-85e0-440f-9248-d28052928759",
   "metadata": {},
   "outputs": [],
   "source": [
    "w0, w = train_linear_regression_reg(df_full_train, y_full_train, r=0.001)"
   ]
  },
  {
   "cell_type": "code",
   "execution_count": 167,
   "id": "07eefb08-7fae-43cd-aeb8-40c7ed383d18",
   "metadata": {},
   "outputs": [],
   "source": [
    "y_pred = w0 + X_test.dot(w)"
   ]
  },
  {
   "cell_type": "code",
   "execution_count": 168,
   "id": "e26d6811-46cb-4e5a-a681-7ef0ad9aacaf",
   "metadata": {},
   "outputs": [
    {
     "data": {
      "text/plain": [
       "np.float64(0.5187103450342053)"
      ]
     },
     "execution_count": 168,
     "metadata": {},
     "output_type": "execute_result"
    }
   ],
   "source": [
    "rmse(y_test, y_pred)"
   ]
  }
 ],
 "metadata": {
  "kernelspec": {
   "display_name": "Python 3 (ipykernel)",
   "language": "python",
   "name": "python3"
  },
  "language_info": {
   "codemirror_mode": {
    "name": "ipython",
    "version": 3
   },
   "file_extension": ".py",
   "mimetype": "text/x-python",
   "name": "python",
   "nbconvert_exporter": "python",
   "pygments_lexer": "ipython3",
   "version": "3.9.21"
  }
 },
 "nbformat": 4,
 "nbformat_minor": 5
}
